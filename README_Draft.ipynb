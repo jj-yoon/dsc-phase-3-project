{
 "cells": [
  {
   "cell_type": "markdown",
   "metadata": {},
   "source": [
    "# Functionality of Waterpoints in Tanzania\n",
    "\n",
    "![Foundation_Stone_Laying_Ceremony](images/photo1.jpg)\n",
    "<br><p style=\"text-align:center;\">Image [Source](https://www.maji.go.tz/news/makamu-wa-rais-mhe-samia-suluhu-hassan-aweka-jiwe-la-msingi-mradi-wa-maji-mji-wa-muheza)</p>\n",
    "\n",
    "## Overview\n",
    "\n",
    "Tanzania, as a developing country, struggles with providing clean water to its population of over 57,000,000. There are many waterpoints already established in the country, but some are in need of repair while others have failed altogether. A smart understanding of which waterpoints will fail can improve maintenance operations and ensure that clean, potable water is available to communities across Tanzania.\n",
    "\n",
    "### Raw Data\n",
    "\n",
    "[Information](https://www.drivendata.org/competitions/7/pump-it-up-data-mining-the-water-table/page/23/) provided about each of the waterpoints include locations,\n",
    "![Map_of_Waterpoint_Functionality](images/status_by_longlat.png)\n",
    "\n",
    "## Exploring the Data\n",
    "\n",
    "\n",
    "\n",
    "### Key Points\n",
    "\n",
    "\n",
    "\n",
    "## Model\n",
    "\n",
    "\n",
    "\n",
    "## Model Analysis\n",
    "\n",
    "\n",
    "\n",
    "## Summary\n",
    "\n"
   ]
  }
 ],
 "metadata": {
  "kernelspec": {
   "display_name": "learn-env",
   "language": "python",
   "name": "learn-env"
  },
  "language_info": {
   "codemirror_mode": {
    "name": "ipython",
    "version": 3
   },
   "file_extension": ".py",
   "mimetype": "text/x-python",
   "name": "python",
   "nbconvert_exporter": "python",
   "pygments_lexer": "ipython3",
   "version": "3.7.6"
  }
 },
 "nbformat": 4,
 "nbformat_minor": 4
}
